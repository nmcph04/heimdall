{
 "cells": [
  {
   "cell_type": "code",
   "execution_count": null,
   "metadata": {},
   "outputs": [],
   "source": [
    "# Imports\n",
    "import pandas as pd\n",
    "import numpy as np\n",
    "\n",
    "import matplotlib.pyplot as plt"
   ]
  },
  {
   "cell_type": "markdown",
   "metadata": {},
   "source": [
    "## Audio loading and preprocessing"
   ]
  },
  {
   "cell_type": "code",
   "execution_count": null,
   "metadata": {},
   "outputs": [],
   "source": [
    "from preprocess_data import preprocess_data\n",
    "\n",
    "features, (labels, labels_ohe), transformers = preprocess_data()"
   ]
  },
  {
   "cell_type": "code",
   "execution_count": null,
   "metadata": {},
   "outputs": [],
   "source": [
    "labels.unique()"
   ]
  },
  {
   "cell_type": "code",
   "execution_count": null,
   "metadata": {},
   "outputs": [],
   "source": [
    "print(features.shape)"
   ]
  },
  {
   "cell_type": "markdown",
   "metadata": {},
   "source": [
    "## K-Means Clustering and t-SNE for data visualization"
   ]
  },
  {
   "cell_type": "code",
   "execution_count": null,
   "metadata": {},
   "outputs": [],
   "source": [
    "# Perform clustering on the keystrokes\n",
    "from sklearn.cluster import KMeans\n",
    "from sklearn.metrics import silhouette_score\n",
    "\n",
    "# Set k to the number of unique labels logged\n",
    "cluster_k = len(labels.unique())\n",
    "kmeans = KMeans(n_clusters=cluster_k, random_state=0, n_init=\"auto\").fit(features)\n",
    "\n",
    "print(f\"{cluster_k} clusters\")\n",
    "print('K-Means Clustering')\n",
    "print(f\"\\tSilhouette score: {silhouette_score(features, kmeans.labels_) :.2f}\")\n",
    "print('')\n",
    "\n",
    "# Get cluster predictions for each row\n",
    "predicted_clusters = []\n",
    "for _, keystroke in features.iterrows():\n",
    "    predicted_clusters.append(kmeans.predict(keystroke.array.reshape(1, -1)))\n",
    "\n",
    "predicted_clusters = np.array(predicted_clusters).squeeze()"
   ]
  },
  {
   "cell_type": "code",
   "execution_count": null,
   "metadata": {},
   "outputs": [],
   "source": [
    "# Plot the data with t-SNE dimensionality reduction to determine if the keystrokes make clusters\n",
    "\n",
    "from sklearn.manifold import TSNE\n",
    "import seaborn as sn\n",
    "\n",
    "def tsne_plot(data, labels=None):\n",
    "    model = TSNE(n_components = 2, random_state = 1)\n",
    "    # configuring the parameters\n",
    "    # the number of components = 2\n",
    "    # default perplexity = 30\n",
    "    # default learning rate = 200\n",
    "    # default Maximum number of iterations\n",
    "    # for the optimization = 1000\n",
    "    \n",
    "    tsne_data = model.fit_transform(data)\n",
    "    \n",
    "    # Colors points based on their label, if they have any\n",
    "    if labels is not None:\n",
    "        tsne_data = np.vstack((tsne_data.T, labels)).T\n",
    "        tsne_df = pd.DataFrame(data = tsne_data,\n",
    "           columns =(\"Dim_1\", \"Dim_2\", \"label\"))\n",
    "    \n",
    "        # Plotting the result of tsne\n",
    "        sn.scatterplot(data=tsne_df, x='Dim_1', y='Dim_2',\n",
    "                       hue='label', palette=\"bright\")\n",
    "    else:\n",
    "        tsne_df = pd.DataFrame(data = tsne_data,\n",
    "           columns =(\"Dim_1\", \"Dim_2\"))\n",
    "    \n",
    "        # Plotting the result of tsne\n",
    "        sn.scatterplot(data=tsne_df, x='Dim_1', y='Dim_2', palette=\"bright\")\n",
    "    \n",
    "    plt.legend(bbox_to_anchor=(1.05, 1.0), loc='upper left')\n",
    "\n",
    "    plt.title(\"t-SNE keystrokes\")\n",
    "    plt.show()\n",
    "\n",
    "tsne_plot(features, labels)"
   ]
  }
 ],
 "metadata": {
  "kernelspec": {
   "display_name": "heimdall2",
   "language": "python",
   "name": "python3"
  },
  "language_info": {
   "codemirror_mode": {
    "name": "ipython",
    "version": 3
   },
   "file_extension": ".py",
   "mimetype": "text/x-python",
   "name": "python",
   "nbconvert_exporter": "python",
   "pygments_lexer": "ipython3",
   "version": "3.12.9"
  }
 },
 "nbformat": 4,
 "nbformat_minor": 2
}
