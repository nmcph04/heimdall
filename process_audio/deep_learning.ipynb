{
 "cells": [
  {
   "cell_type": "code",
   "execution_count": null,
   "metadata": {},
   "outputs": [],
   "source": [
    "import numpy as np\n",
    "import torch\n",
    "from pickle import load\n",
    "from train_deep_learning import Model\n",
    "from preprocess_data import load_data, labeled_audio_segmentation, convert_to_array\n",
    "import os\n",
    "import pandas as pd"
   ]
  },
  {
   "cell_type": "code",
   "execution_count": null,
   "metadata": {},
   "outputs": [],
   "source": [
    "def read_model_info(dir='model_data/'):\n",
    "\n",
    "    with open(dir + 'model_info.txt', 'r') as file:\n",
    "        input_layer = int(file.readline().strip())\n",
    "        hidden_layers = [int(x) for x in file.readline().strip().split(',') if x.strip()]\n",
    "        output_layer = int(file.readline().strip())\n",
    "    \n",
    "    return input_layer, hidden_layers, output_layer "
   ]
  },
  {
   "cell_type": "code",
   "execution_count": null,
   "metadata": {},
   "outputs": [],
   "source": [
    "# import model\n",
    "\n",
    "device = torch.device(\"cuda:0\" if torch.cuda.is_available() else \"cpu\")\n",
    "\n",
    "input_size, hidden_sizes, output_size = read_model_info()\n",
    "\n",
    "model = Model(input_size, hidden_sizes, output_size).to(device)\n",
    "model.load_state_dict(torch.load('model_data/model.pt', weights_only=True))\n",
    "model.eval()"
   ]
  },
  {
   "cell_type": "code",
   "execution_count": null,
   "metadata": {},
   "outputs": [],
   "source": [
    "# Load data transformers\n",
    "def load_transformers(dir='model_data/transformer_dumps/'):\n",
    "    encoder = load(open(dir + 'encoder.pkl', 'rb'))\n",
    "    scaler = load(open(dir + 'scaler.pkl', 'rb'))\n",
    "    pca = load(open(dir + 'pca.pkl', 'rb'))\n",
    "\n",
    "    return {'encoder': encoder, 'scaler': scaler, 'pca': pca}\n",
    "\n",
    "transformers = load_transformers()\n",
    "print(transformers)"
   ]
  },
  {
   "cell_type": "code",
   "execution_count": null,
   "metadata": {},
   "outputs": [],
   "source": [
    "base_names = []\n",
    "extensions = ['.txt', '.wav']\n",
    "data_dir='data'\n",
    "\n",
    "filenames = os.listdir(data_dir)\n",
    "\n",
    "for file in filenames:\n",
    "    base, ext = os.path.splitext(file)\n",
    "    # Appends file base name to base_names if it has one of the two extensions and is not already in base_names\n",
    "    if ext in extensions and base not in base_names:\n",
    "        base_names.append(base)\n",
    "\n",
    "# loads the data from every pair of txt and wav files in the data_dir    \n",
    "dataframe = pd.DataFrame()\n",
    "for base in base_names:\n",
    "    label_file = data_dir + '/' + base + '.tsv'\n",
    "    audio_file = data_dir + '/' + base + '.wav'\n",
    "\n",
    "    audio, labels, sr = load_data(label_file, audio_file)\n",
    "    segmented_audio, seg_labels = labeled_audio_segmentation(labels, audio, sr)\n",
    "\n",
    "    key_df = pd.DataFrame(convert_to_array(segmented_audio))\n",
    "    key_df['label'] = seg_labels\n",
    "    dataframe = pd.concat([dataframe, key_df], ignore_index=True)\n",
    "\n",
    "features = dataframe.drop('label', axis=1)\n",
    "features.fillna(0, inplace=True)\n",
    "labels = dataframe['label']"
   ]
  },
  {
   "cell_type": "code",
   "execution_count": null,
   "metadata": {},
   "outputs": [],
   "source": [
    "def pipeline(transformers, features):\n",
    "\n",
    "    scaled = transformers['scaler'].transform(features)\n",
    "    return transformers['pca'].transform(scaled)\n",
    "transformed = pipeline(transformers, features)"
   ]
  },
  {
   "cell_type": "code",
   "execution_count": null,
   "metadata": {},
   "outputs": [],
   "source": [
    "trainhist = pd.read_csv('model_data/trainhist.csv')\n",
    "trainhist.tail()"
   ]
  },
  {
   "cell_type": "code",
   "execution_count": null,
   "metadata": {},
   "outputs": [],
   "source": [
    "import seaborn as sns\n",
    "import matplotlib.pyplot as plt\n",
    "\n",
    "plt.subplot(2, 1, 1)\n",
    "plt.title(\"Model Loss\")\n",
    "sns.lineplot(x='epoch', y='train_loss', data=trainhist)\n",
    "sns.lineplot(x='epoch', y='val_loss', data=trainhist)\n",
    "plt.legend(labels=['train_loss', 'val_loss'])\n",
    "\n",
    "plt.subplot(2, 1, 2)\n",
    "plt.title(\"Model Accuracy\")\n",
    "sns.lineplot(x='epoch', y='train_acc', data=trainhist)\n",
    "sns.lineplot(x='epoch', y='val_acc', data=trainhist)\n",
    "plt.legend(labels=['train_acc', 'val_acc'])\n",
    "\n",
    "plt.tight_layout()\n",
    "plt.show()"
   ]
  },
  {
   "cell_type": "code",
   "execution_count": null,
   "metadata": {},
   "outputs": [],
   "source": [
    "# emulates typing the characters in a list, printing out the result\n",
    "# characters such as backspace, space, shift are handled\n",
    "def emulate_typing(chars: list):\n",
    "    shifted = False\n",
    "    buffer = []\n",
    "\n",
    "    for char in chars:\n",
    "        if char == 'backspace':\n",
    "            if buffer:\n",
    "                buffer.pop()\n",
    "        elif char == 'space':\n",
    "            buffer.append(' ')\n",
    "        elif char == 'shift' or char == 'shift_r':\n",
    "            shifted = True\n",
    "        else:\n",
    "            if shifted:\n",
    "                buffer.append(char.upper())\n",
    "                shifted = False\n",
    "            else: \n",
    "                buffer.append(char)\n",
    "\n",
    "    print(''.join(char for char in buffer))"
   ]
  },
  {
   "cell_type": "code",
   "execution_count": null,
   "metadata": {},
   "outputs": [],
   "source": [
    "# Check model predictions\n",
    "pred_idx_end = 200\n",
    "\n",
    "features_np = features.to_numpy()\n",
    "\n",
    "predictions = model(torch.tensor(transformed[:pred_idx_end].astype(np.float32)).to(device)).cpu().detach().numpy()\n",
    "pred_y = transformers['encoder'].inverse_transform(predictions).squeeze()\n",
    "true_y = labels[:pred_idx_end].to_numpy()\n",
    "\n",
    "print(\"Predicted:\\n\\t\", end=\"\")\n",
    "emulate_typing(pred_y)\n",
    "\n",
    "print('')\n",
    "print(\"Actual:\\n\\t\", end='')\n",
    "emulate_typing(true_y)"
   ]
  }
 ],
 "metadata": {
  "kernelspec": {
   "display_name": "heimdall2",
   "language": "python",
   "name": "python3"
  },
  "language_info": {
   "codemirror_mode": {
    "name": "ipython",
    "version": 3
   },
   "file_extension": ".py",
   "mimetype": "text/x-python",
   "name": "python",
   "nbconvert_exporter": "python",
   "pygments_lexer": "ipython3",
   "version": "3.12.9"
  }
 },
 "nbformat": 4,
 "nbformat_minor": 2
}
